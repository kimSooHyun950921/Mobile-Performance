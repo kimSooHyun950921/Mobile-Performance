{
 "cells": [
  {
   "cell_type": "code",
   "execution_count": 4,
   "metadata": {},
   "outputs": [
    {
     "name": "stdout",
     "output_type": "stream",
     "text": [
      "Requirement already satisfied: Cython in ./venv/lib/python3.7/site-packages (0.29.16)\r\n"
     ]
    }
   ],
   "source": [
    "!pip3 install Cython"
   ]
  },
  {
   "cell_type": "code",
   "execution_count": 5,
   "metadata": {},
   "outputs": [
    {
     "name": "stdout",
     "output_type": "stream",
     "text": [
      "Collecting pycocotools\n",
      "  Using cached pycocotools-2.0.0.tar.gz (1.5 MB)\n",
      "Building wheels for collected packages: pycocotools\n",
      "  Building wheel for pycocotools (setup.py) ... \u001b[?25ldone\n",
      "\u001b[?25h  Created wheel for pycocotools: filename=pycocotools-2.0.0-cp37-cp37m-linux_x86_64.whl size=279275 sha256=65c5bb7de491b9ecf02c56565b55e8bbb2e9b68fd132130c677bb5259b6413db\n",
      "  Stored in directory: /home/kimsoohyun/.cache/pip/wheels/4d/50/dc/e1f07e9eb5678a0ee21bc091220f1f3806ba8e48ef3f2083cb\n",
      "Successfully built pycocotools\n",
      "Installing collected packages: pycocotools\n",
      "Successfully installed pycocotools-2.0.0\n"
     ]
    }
   ],
   "source": [
    "!pip3 install pycocotools"
   ]
  },
  {
   "cell_type": "code",
   "execution_count": 29,
   "metadata": {},
   "outputs": [
    {
     "name": "stdout",
     "output_type": "stream",
     "text": [
      "Collecting labelImg\n",
      "  Downloading labelImg-1.8.3-py2.py3-none-any.whl (248 kB)\n",
      "\u001b[K     |████████████████████████████████| 248 kB 775 kB/s eta 0:00:01\n",
      "\u001b[?25hCollecting lxml\n",
      "  Downloading lxml-4.5.0-cp37-cp37m-manylinux1_x86_64.whl (5.7 MB)\n",
      "\u001b[K     |████████████████████████████████| 5.7 MB 2.0 MB/s eta 0:00:01\n",
      "\u001b[?25hCollecting pyqt5\n",
      "  Downloading PyQt5-5.14.2-5.14.2-cp35.cp36.cp37.cp38-abi3-manylinux2014_x86_64.whl (63.6 MB)\n",
      "\u001b[K     |████████████████████████████████| 63.6 MB 292 kB/s eta 0:00:01    |███▍                            | 6.7 MB 1.4 MB/s eta 0:00:41     |███████████████████▎            | 38.3 MB 2.2 MB/s eta 0:00:12     |███████████████████████▎        | 46.3 MB 2.8 MB/s eta 0:00:07\n",
      "\u001b[?25hCollecting PyQt5-sip<13,>=12.7\n",
      "  Downloading PyQt5_sip-12.7.2-cp37-cp37m-manylinux1_x86_64.whl (253 kB)\n",
      "\u001b[K     |████████████████████████████████| 253 kB 776 kB/s eta 0:00:01\n",
      "\u001b[?25hInstalling collected packages: lxml, PyQt5-sip, pyqt5, labelImg\n",
      "Successfully installed PyQt5-sip-12.7.2 labelImg-1.8.3 lxml-4.5.0 pyqt5-5.14.2\n"
     ]
    }
   ],
   "source": [
    "!pip3 install labelImg"
   ]
  },
  {
   "cell_type": "code",
   "execution_count": 10,
   "metadata": {
    "scrolled": true
   },
   "outputs": [
    {
     "name": "stdout",
     "output_type": "stream",
     "text": [
      "Processing /home/kimsoohyun/00-Research/02-Graph/02-image_detection/04-clickable/dataset/03-models/ob_model/models/research\n",
      "Requirement already satisfied: Pillow>=1.0 in /home/kimsoohyun/00-Research/02-Graph/02-image_detection/04-clickable/venv/lib/python3.7/site-packages (from object-detection==0.1) (7.0.0)\n",
      "Requirement already satisfied: Matplotlib>=2.1 in /home/kimsoohyun/00-Research/02-Graph/02-image_detection/04-clickable/venv/lib/python3.7/site-packages (from object-detection==0.1) (3.2.0)\n",
      "Requirement already satisfied: Cython>=0.28.1 in /home/kimsoohyun/00-Research/02-Graph/02-image_detection/04-clickable/venv/lib/python3.7/site-packages (from object-detection==0.1) (0.29.16)\n",
      "Requirement already satisfied: cycler>=0.10 in /home/kimsoohyun/00-Research/02-Graph/02-image_detection/04-clickable/venv/lib/python3.7/site-packages (from Matplotlib>=2.1->object-detection==0.1) (0.10.0)\n",
      "Requirement already satisfied: pyparsing!=2.0.4,!=2.1.2,!=2.1.6,>=2.0.1 in /home/kimsoohyun/00-Research/02-Graph/02-image_detection/04-clickable/venv/lib/python3.7/site-packages (from Matplotlib>=2.1->object-detection==0.1) (2.4.6)\n",
      "Requirement already satisfied: numpy>=1.11 in /home/kimsoohyun/00-Research/02-Graph/02-image_detection/04-clickable/venv/lib/python3.7/site-packages (from Matplotlib>=2.1->object-detection==0.1) (1.18.1)\n",
      "Requirement already satisfied: python-dateutil>=2.1 in /home/kimsoohyun/00-Research/02-Graph/02-image_detection/04-clickable/venv/lib/python3.7/site-packages (from Matplotlib>=2.1->object-detection==0.1) (2.8.1)\n",
      "Requirement already satisfied: kiwisolver>=1.0.1 in /home/kimsoohyun/00-Research/02-Graph/02-image_detection/04-clickable/venv/lib/python3.7/site-packages (from Matplotlib>=2.1->object-detection==0.1) (1.1.0)\n",
      "Requirement already satisfied: six in /home/kimsoohyun/00-Research/02-Graph/02-image_detection/04-clickable/venv/lib/python3.7/site-packages (from cycler>=0.10->Matplotlib>=2.1->object-detection==0.1) (1.14.0)\n",
      "Requirement already satisfied: setuptools in /home/kimsoohyun/00-Research/02-Graph/02-image_detection/04-clickable/venv/lib/python3.7/site-packages (from kiwisolver>=1.0.1->Matplotlib>=2.1->object-detection==0.1) (40.8.0)\n",
      "Building wheels for collected packages: object-detection\n",
      "  Building wheel for object-detection (setup.py): started\n",
      "  Building wheel for object-detection (setup.py): finished with status 'done'\n",
      "  Created wheel for object-detection: filename=object_detection-0.1-py3-none-any.whl size=1017522 sha256=f363291418b28a65b338da9ba3d4e6e5d9f26badf2fa290242a00e552f49f1ec\n",
      "  Stored in directory: /tmp/pip-ephem-wheel-cache-ywbjwq8x/wheels/c3/37/13/1e3e810734edbd3864f6281436173fbbff2fe5451d511b02ac\n",
      "Successfully built object-detection\n",
      "Installing collected packages: object-detection\n",
      "Successfully installed object-detection-0.1\n"
     ]
    }
   ],
   "source": [
    "%%bash\n",
    "cd dataset/03-models/ob_model/models/research\n",
    "pip3 install ."
   ]
  },
  {
   "cell_type": "code",
   "execution_count": 20,
   "metadata": {},
   "outputs": [],
   "source": [
    "import numpy as np\n",
    "import os\n",
    "import six.moves.urllib as urllib\n",
    "import sys\n",
    "import tarfile\n",
    "import tensorflow as tf\n",
    "import zipfile\n",
    "\n",
    "from collections import defaultdict\n",
    "from io import StringIO\n",
    "from matplotlib import pyplot as plt\n",
    "from PIL import Image\n",
    "from IPython.display import display\n",
    "import pathlib"
   ]
  },
  {
   "cell_type": "code",
   "execution_count": 21,
   "metadata": {},
   "outputs": [],
   "source": [
    "from object_detection.utils import ops as utils_ops\n",
    "from object_detection.utils import label_map_util\n",
    "from object_detection.utils import visualization_utils as vis_util"
   ]
  },
  {
   "cell_type": "code",
   "execution_count": 22,
   "metadata": {},
   "outputs": [],
   "source": [
    "# patch tf1 into `utils.ops`\n",
    "utils_ops.tf = tf.compat.v1\n",
    "\n",
    "# Patch the location of gfile\n",
    "tf.gfile = tf.io.gfile"
   ]
  },
  {
   "cell_type": "code",
   "execution_count": 23,
   "metadata": {},
   "outputs": [],
   "source": [
    "def load_model(model_name):\n",
    "    base_url = 'http://download.tensorflow.org/models/object_detection/'\n",
    "    model_file = model_name + '.tar.gz'\n",
    "    model_dir = tf.keras.utils.get_file(\n",
    "    fname=model_name, \n",
    "    origin=base_url + model_file, untar=True)\n",
    "\n",
    "    model_dir = pathlib.Path(model_dir)/\"saved_model\"\n",
    "\n",
    "    model = tf.saved_model.load(str(model_dir))\n",
    "    model = model.signatures['serving_default']\n",
    "\n",
    "    return model"
   ]
  },
  {
   "cell_type": "code",
   "execution_count": 24,
   "metadata": {},
   "outputs": [],
   "source": [
    "# List of the strings that is used to add correct label for each box.\n",
    "PATH_TO_LABELS = '/home/kimsoohyun/00-Research/02-Graph/02-image_detection/04-clickable/dataset/03-models/ob_model/models/research/object_detection/data/mscoco_label_map.pbtxt'\n",
    "category_index = label_map_util.create_category_index_from_labelmap(PATH_TO_LABELS, use_display_name=True)"
   ]
  },
  {
   "cell_type": "code",
   "execution_count": 26,
   "metadata": {},
   "outputs": [
    {
     "data": {
      "text/plain": [
       "[PosixPath('/home/kimsoohyun/00-Research/02-Graph/02-image_detection/04-clickable/dataset/03-models/ob_model/models/research/object_detection/test_images/image1.jpg'),\n",
       " PosixPath('/home/kimsoohyun/00-Research/02-Graph/02-image_detection/04-clickable/dataset/03-models/ob_model/models/research/object_detection/test_images/image2.jpg')]"
      ]
     },
     "execution_count": 26,
     "metadata": {},
     "output_type": "execute_result"
    }
   ],
   "source": [
    "# If you want to test the code with your images, just add path to the images to the TEST_IMAGE_PATHS.\n",
    "PATH_TO_TEST_IMAGES_DIR = pathlib.Path('/home/kimsoohyun/00-Research/02-Graph/02-image_detection/04-clickable/dataset/03-models/ob_model/models/research/object_detection/test_images')\n",
    "TEST_IMAGE_PATHS = sorted(list(PATH_TO_TEST_IMAGES_DIR.glob(\"*.jpg\")))\n",
    "TEST_IMAGE_PATHS"
   ]
  },
  {
   "cell_type": "code",
   "execution_count": 28,
   "metadata": {},
   "outputs": [
    {
     "name": "stdout",
     "output_type": "stream",
     "text": [
      "INFO:tensorflow:Saver not created because there are no variables in the graph to restore\n"
     ]
    }
   ],
   "source": [
    "model_name = 'ssd_mobilenet_v1_coco_2017_11_17'\n",
    "detection_model = load_model(model_name)"
   ]
  },
  {
   "cell_type": "code",
   "execution_count": null,
   "metadata": {},
   "outputs": [],
   "source": [
    "class_names = sorted(train_data_gen.class_indices.items(), key=lambda pair:pair[1])\n",
    "class_names = np.array([key.title() for key, value in class_names])\n",
    "print('Classes: {}'.format(class_names))\n",
    "\n",
    "## get result labels\n",
    "predicted_batch = model.predict(image_batch_test)\n",
    "predicted_id = np.argmax(predicted_batch, axis=-1)\n",
    "predicted_label_batch = class_names[predicted_id]\n",
    "\n",
    "label_id = np.argmax(label_batch_test, axis=-1)\n",
    "\n",
    "## plot\n",
    "plt.figure(figsize=(10,9))\n",
    "plt.subplots_adjust(hspace=0.5)\n",
    "for n in range(30):\n",
    "    plt.subplot(6, 5, n+1)\n",
    "    plt.imshow(image_batch_test[n])\n",
    "    color = 'green' if predicted_id[n] == label_id[n] else 'red'\n",
    "    plt.title(predicted_label_batch[n].title(), color=color)\n",
    "    plt.axis('off')\n",
    "_ = plt.suptitle('Model predictions (green: correct, red: incorrect)')"
   ]
  }
 ],
 "metadata": {
  "kernelspec": {
   "display_name": "Python 3",
   "language": "python",
   "name": "python3"
  },
  "language_info": {
   "codemirror_mode": {
    "name": "ipython",
    "version": 3
   },
   "file_extension": ".py",
   "mimetype": "text/x-python",
   "name": "python",
   "nbconvert_exporter": "python",
   "pygments_lexer": "ipython3",
   "version": "3.7.4"
  }
 },
 "nbformat": 4,
 "nbformat_minor": 4
}
